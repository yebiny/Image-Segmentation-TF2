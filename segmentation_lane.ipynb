{
  "nbformat": 4,
  "nbformat_minor": 0,
  "metadata": {
    "colab": {
      "name": "segmentation_lane.ipynb",
      "provenance": [],
      "collapsed_sections": [],
      "authorship_tag": "ABX9TyOzklmWqQEXbjU4ZniIrx58",
      "include_colab_link": true
    },
    "kernelspec": {
      "name": "python3",
      "display_name": "Python 3"
    },
    "language_info": {
      "name": "python"
    },
    "accelerator": "GPU"
  },
  "cells": [
    {
      "cell_type": "markdown",
      "metadata": {
        "id": "view-in-github",
        "colab_type": "text"
      },
      "source": [
        "<a href=\"https://colab.research.google.com/github/yebiny/Image-Segmentation-TF2/blob/main/segmentation_lane.ipynb\" target=\"_parent\"><img src=\"https://colab.research.google.com/assets/colab-badge.svg\" alt=\"Open In Colab\"/></a>"
      ]
    },
    {
      "cell_type": "markdown",
      "metadata": {
        "id": "VJgySvM9eBHY"
      },
      "source": [
        "# Segmentation with advence"
      ]
    },
    {
      "cell_type": "markdown",
      "metadata": {
        "id": "loBfrkjiNQa7"
      },
      "source": [
        "## 데이터셋: Highway Driving Dataset\n",
        "* https://sites.google.com/site/highwaydrivingdataset/\n",
        "![](https://github.com/yebiny/Image-Segmentation-TF2/blob/main/imgs/lane_ds.PNG?raw=true)"
      ]
    },
    {
      "cell_type": "markdown",
      "metadata": {
        "id": "31xSlLsmz3lS"
      },
      "source": [
        "### 1. 데이터셋 다운로드\n",
        "* https://drive.google.com/u/0/uc?id=1DsHXu0u6PnGNkqz0wJpDCVHIaRs8facP&export=download"
      ]
    },
    {
      "cell_type": "code",
      "metadata": {
        "id": "u3-2920YKCxh"
      },
      "source": [
        ""
      ],
      "execution_count": null,
      "outputs": []
    },
    {
      "cell_type": "markdown",
      "metadata": {
        "id": "2S0uYodPz7b3"
      },
      "source": [
        "### 2. 이미지 경로 설정"
      ]
    },
    {
      "cell_type": "code",
      "metadata": {
        "id": "XwdcuabdNGJk"
      },
      "source": [
        ""
      ],
      "execution_count": null,
      "outputs": []
    },
    {
      "cell_type": "markdown",
      "metadata": {
        "id": "SL9ccEEeXsNP"
      },
      "source": [
        "### 3. EDA\n",
        "\n",
        "![](https://github.com/yebiny/Image-Segmentation-TF2/blob/main/imgs/lane_class.PNG?raw=true)"
      ]
    },
    {
      "cell_type": "code",
      "metadata": {
        "id": "nMPi2h0AX4cf"
      },
      "source": [
        ""
      ],
      "execution_count": null,
      "outputs": []
    },
    {
      "cell_type": "code",
      "metadata": {
        "id": "mP3CXUIyZER_"
      },
      "source": [
        ""
      ],
      "execution_count": null,
      "outputs": []
    },
    {
      "cell_type": "markdown",
      "metadata": {
        "id": "asqEswKSfWuj"
      },
      "source": [
        "## Data Generator with augmentation\n",
        "---\n"
      ]
    },
    {
      "cell_type": "code",
      "metadata": {
        "id": "-ZYatrRclgzt"
      },
      "source": [
        ""
      ],
      "execution_count": null,
      "outputs": []
    },
    {
      "cell_type": "markdown",
      "metadata": {
        "id": "EeGUvCTUJxR2"
      },
      "source": [
        "### 1. array 변환"
      ]
    },
    {
      "cell_type": "code",
      "metadata": {
        "id": "6am_ApNE0vCG"
      },
      "source": [
        ""
      ],
      "execution_count": null,
      "outputs": []
    },
    {
      "cell_type": "markdown",
      "metadata": {
        "id": "le9wetHkK4-f"
      },
      "source": [
        "### 2. 전처리"
      ]
    },
    {
      "cell_type": "code",
      "metadata": {
        "id": "Q580ylOt9mAI"
      },
      "source": [
        ""
      ],
      "execution_count": null,
      "outputs": []
    },
    {
      "cell_type": "markdown",
      "metadata": {
        "id": "_XeLe0noK9BU"
      },
      "source": [
        "### 3. augmentation"
      ]
    },
    {
      "cell_type": "code",
      "metadata": {
        "id": "zpZdjEoDCJXw"
      },
      "source": [
        ""
      ],
      "execution_count": null,
      "outputs": []
    },
    {
      "cell_type": "markdown",
      "metadata": {
        "id": "heAzJcW0dtKM"
      },
      "source": [
        "### 데이터셋 정의"
      ]
    },
    {
      "cell_type": "code",
      "metadata": {
        "id": "Tlq2cX6VLPYd"
      },
      "source": [
        ""
      ],
      "execution_count": null,
      "outputs": []
    },
    {
      "cell_type": "markdown",
      "metadata": {
        "id": "n5pSrbGeeQz4"
      },
      "source": [
        "## 모델: 전이학습\n",
        "---"
      ]
    },
    {
      "cell_type": "markdown",
      "metadata": {
        "id": "91MYfh7WfWut"
      },
      "source": [
        "### 1. 모델 생성"
      ]
    },
    {
      "cell_type": "code",
      "metadata": {
        "id": "vOfJuSEXfWuu"
      },
      "source": [
        ""
      ],
      "execution_count": null,
      "outputs": []
    },
    {
      "cell_type": "markdown",
      "metadata": {
        "id": "johGqj-wfWuv"
      },
      "source": [
        "### 2. 모델 컴파일"
      ]
    },
    {
      "cell_type": "code",
      "metadata": {
        "id": "_9IIX1iifWuv"
      },
      "source": [
        ""
      ],
      "execution_count": null,
      "outputs": []
    },
    {
      "cell_type": "markdown",
      "metadata": {
        "id": "N_oIXTMXfWuv"
      },
      "source": [
        "### 3. 모델 학습"
      ]
    },
    {
      "cell_type": "code",
      "metadata": {
        "id": "25_SWJn4fWuw"
      },
      "source": [
        ""
      ],
      "execution_count": null,
      "outputs": []
    },
    {
      "cell_type": "markdown",
      "metadata": {
        "id": "U3IjBIP4MVph"
      },
      "source": [
        "### 4. 모델 평가"
      ]
    },
    {
      "cell_type": "code",
      "metadata": {
        "id": "41AI_JX_MVpp"
      },
      "source": [
        ""
      ],
      "execution_count": null,
      "outputs": []
    },
    {
      "cell_type": "markdown",
      "metadata": {
        "id": "o9cJSpzeMVpq"
      },
      "source": [
        "### 5. 추론"
      ]
    },
    {
      "cell_type": "code",
      "metadata": {
        "id": "Qhb2hlygMVpq"
      },
      "source": [
        ""
      ],
      "execution_count": null,
      "outputs": []
    }
  ]
}