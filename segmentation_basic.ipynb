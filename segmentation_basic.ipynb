{
  "nbformat": 4,
  "nbformat_minor": 0,
  "metadata": {
    "colab": {
      "name": "segmentation_basic.ipynb",
      "provenance": [],
      "collapsed_sections": [],
      "toc_visible": true,
      "authorship_tag": "ABX9TyNOVFuo4vwgkiiEpQ5S+POG",
      "include_colab_link": true
    },
    "kernelspec": {
      "name": "python3",
      "display_name": "Python 3"
    },
    "language_info": {
      "name": "python"
    },
    "accelerator": "GPU"
  },
  "cells": [
    {
      "cell_type": "markdown",
      "metadata": {
        "id": "view-in-github",
        "colab_type": "text"
      },
      "source": [
        "<a href=\"https://colab.research.google.com/github/yebiny/Image-Segmentation-TF2/blob/main/segmentation_basic.ipynb\" target=\"_parent\"><img src=\"https://colab.research.google.com/assets/colab-badge.svg\" alt=\"Open In Colab\"/></a>"
      ]
    },
    {
      "cell_type": "markdown",
      "metadata": {
        "id": "fPN5JLCQLj4e"
      },
      "source": [
        "# Image Segmentation\n",
        "\n",
        "![](https://github.com/yebiny/Image-Segmentation-TF2/blob/main/imgs/seg_type.png?raw=true)\n",
        "\n",
        "\n",
        "![](https://github.com/yebiny/Image-Segmentation-TF2/blob/main/imgs/seg_model.png?raw=true)"
      ]
    },
    {
      "cell_type": "markdown",
      "metadata": {
        "id": "JcwzvgrTLpI2"
      },
      "source": [
        "## 데이터셋: Crowd Instance-level Human Parsing (CIHP)\n",
        "---\n",
        "\n",
        "(https://arxiv.org/abs/1811.12596)\n",
        "\n",
        "* 38,280개의 다양한 인간 이미지\n",
        "![](https://github.com/yebiny/Image-Segmentation-TF2/blob/main/imgs/chip.png?raw=true)"
      ]
    },
    {
      "cell_type": "markdown",
      "metadata": {
        "id": "J-D-z5mb3vfs"
      },
      "source": [
        "### 1. 데이터셋 다운로드\n",
        "\n",
        "* instance-level-human-parsing.zip(2.7G): https://drive.google.com/uc?id=1B9A9UCJYMwTL4oBEo4RZfbMZMaZhKJaz"
      ]
    },
    {
      "cell_type": "code",
      "metadata": {
        "id": "pgIeATGc3vfv"
      },
      "source": [
        ""
      ],
      "execution_count": null,
      "outputs": []
    },
    {
      "cell_type": "markdown",
      "metadata": {
        "id": "orTkLuqF6U6-"
      },
      "source": [
        "### 2. 이미지 경로 설정"
      ]
    },
    {
      "cell_type": "code",
      "metadata": {
        "id": "ItrwStat6znm"
      },
      "source": [
        ""
      ],
      "execution_count": null,
      "outputs": []
    },
    {
      "cell_type": "code",
      "metadata": {
        "id": "oSsMPt5DFQdX"
      },
      "source": [
        ""
      ],
      "execution_count": null,
      "outputs": []
    },
    {
      "cell_type": "code",
      "metadata": {
        "id": "whOLWE5aTrHU"
      },
      "source": [
        ""
      ],
      "execution_count": null,
      "outputs": []
    },
    {
      "cell_type": "markdown",
      "metadata": {
        "id": "52Quj4g-J9yL"
      },
      "source": [
        "## 데이터셋 제너레이터\n",
        "---"
      ]
    },
    {
      "cell_type": "code",
      "metadata": {
        "id": "3fSzjFosJ_UG"
      },
      "source": [
        ""
      ],
      "execution_count": null,
      "outputs": []
    },
    {
      "cell_type": "markdown",
      "metadata": {
        "id": "905J01kVLelu"
      },
      "source": [
        "### 1. array 변환"
      ]
    },
    {
      "cell_type": "code",
      "metadata": {
        "id": "fTPPApf9Gq1t"
      },
      "source": [
        ""
      ],
      "execution_count": null,
      "outputs": []
    },
    {
      "cell_type": "markdown",
      "metadata": {
        "id": "Vy2lEOIuLhdW"
      },
      "source": [
        "### 2. Normalize"
      ]
    },
    {
      "cell_type": "code",
      "metadata": {
        "id": "z799rhfW6Scs"
      },
      "source": [
        ""
      ],
      "execution_count": null,
      "outputs": []
    },
    {
      "cell_type": "markdown",
      "metadata": {
        "id": "dIHQL4bSzQpG"
      },
      "source": [
        "### 3. 데이터셋 정의"
      ]
    },
    {
      "cell_type": "code",
      "metadata": {
        "id": "Us-L3SQg7aDz"
      },
      "source": [
        ""
      ],
      "execution_count": null,
      "outputs": []
    },
    {
      "cell_type": "markdown",
      "metadata": {
        "id": "prb3QskIL6E8"
      },
      "source": [
        "## 모델: UNet\n",
        "---\n",
        "\n",
        "![]( https://github.com/yebiny/Image-Segmentation-TF2/blob/main/imgs/unet2.png?raw=true)"
      ]
    },
    {
      "cell_type": "markdown",
      "metadata": {
        "id": "tkytxUE_M6tp"
      },
      "source": [
        "### 1. 모델 생성"
      ]
    },
    {
      "cell_type": "code",
      "metadata": {
        "id": "1WIhRhyRUFq4"
      },
      "source": [
        ""
      ],
      "execution_count": null,
      "outputs": []
    },
    {
      "cell_type": "markdown",
      "metadata": {
        "id": "3D4Jhcp7M84L"
      },
      "source": [
        "### 2. 모델 컴파일"
      ]
    },
    {
      "cell_type": "code",
      "metadata": {
        "id": "CA38g-grUNf2"
      },
      "source": [
        ""
      ],
      "execution_count": null,
      "outputs": []
    },
    {
      "cell_type": "markdown",
      "metadata": {
        "id": "6x34P3CRM-cL"
      },
      "source": [
        "### 3. 모델 학습"
      ]
    },
    {
      "cell_type": "code",
      "metadata": {
        "id": "8Igi_n1JKxG3"
      },
      "source": [
        ""
      ],
      "execution_count": null,
      "outputs": []
    },
    {
      "cell_type": "markdown",
      "metadata": {
        "id": "XIgiukuJTRd0"
      },
      "source": [
        "### 4. 모델 평가"
      ]
    },
    {
      "cell_type": "code",
      "metadata": {
        "id": "awiPm4kth_Pv"
      },
      "source": [
        ""
      ],
      "execution_count": null,
      "outputs": []
    },
    {
      "cell_type": "markdown",
      "metadata": {
        "id": "Q1HL3hfQiNLL"
      },
      "source": [
        "### 5. 추론"
      ]
    },
    {
      "cell_type": "code",
      "metadata": {
        "id": "Xp4QJEzTdXuq"
      },
      "source": [
        ""
      ],
      "execution_count": null,
      "outputs": []
    }
  ]
}