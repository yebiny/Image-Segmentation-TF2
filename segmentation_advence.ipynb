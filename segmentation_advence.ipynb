{
  "nbformat": 4,
  "nbformat_minor": 0,
  "metadata": {
    "colab": {
      "name": "segmentation_advence.ipynb",
      "provenance": [],
      "collapsed_sections": [],
      "authorship_tag": "ABX9TyNPOE5bUjshZSGb+61ngP52",
      "include_colab_link": true
    },
    "kernelspec": {
      "name": "python3",
      "display_name": "Python 3"
    },
    "language_info": {
      "name": "python"
    },
    "accelerator": "GPU"
  },
  "cells": [
    {
      "cell_type": "markdown",
      "metadata": {
        "id": "view-in-github",
        "colab_type": "text"
      },
      "source": [
        "<a href=\"https://colab.research.google.com/github/yebiny/Image-Segmentation-TF2/blob/main/segmentation_advence.ipynb\" target=\"_parent\"><img src=\"https://colab.research.google.com/assets/colab-badge.svg\" alt=\"Open In Colab\"/></a>"
      ]
    },
    {
      "cell_type": "markdown",
      "metadata": {
        "id": "VJgySvM9eBHY"
      },
      "source": [
        "# Segmentation with advence"
      ]
    },
    {
      "cell_type": "markdown",
      "metadata": {
        "id": "loBfrkjiNQa7"
      },
      "source": [
        "## 데이터셋: Oxford-IIIT Pets 데이터셋\n",
        "---\n",
        "![](https://github.com/yebiny/Image-Segmentation-TF2/blob/main/imgs/oxford-pet.jpeg?raw=true)"
      ]
    },
    {
      "cell_type": "markdown",
      "metadata": {
        "id": "31xSlLsmz3lS"
      },
      "source": [
        "### 1. 데이터셋 다운로드"
      ]
    },
    {
      "cell_type": "code",
      "metadata": {
        "id": "u3-2920YKCxh"
      },
      "source": [
        ""
      ],
      "execution_count": null,
      "outputs": []
    },
    {
      "cell_type": "markdown",
      "metadata": {
        "id": "2S0uYodPz7b3"
      },
      "source": [
        "### 2. 이미지 경로 설정"
      ]
    },
    {
      "cell_type": "code",
      "metadata": {
        "id": "XwdcuabdNGJk"
      },
      "source": [
        ""
      ],
      "execution_count": null,
      "outputs": []
    },
    {
      "cell_type": "markdown",
      "metadata": {
        "id": "i_mI5eEGdKOj"
      },
      "source": [
        "## 데이터셋 제너레이터\n",
        "---"
      ]
    },
    {
      "cell_type": "code",
      "metadata": {
        "id": "-ZYatrRclgzt"
      },
      "source": [
        ""
      ],
      "execution_count": null,
      "outputs": []
    },
    {
      "cell_type": "code",
      "metadata": {
        "id": "kV8tuTnYTo-0"
      },
      "source": [
        ""
      ],
      "execution_count": null,
      "outputs": []
    },
    {
      "cell_type": "markdown",
      "metadata": {
        "id": "EeGUvCTUJxR2"
      },
      "source": [
        "### 1. array 변환"
      ]
    },
    {
      "cell_type": "code",
      "metadata": {
        "id": "6am_ApNE0vCG"
      },
      "source": [
        ""
      ],
      "execution_count": null,
      "outputs": []
    },
    {
      "cell_type": "markdown",
      "metadata": {
        "id": "le9wetHkK4-f"
      },
      "source": [
        "### 2. 전처리"
      ]
    },
    {
      "cell_type": "code",
      "metadata": {
        "id": "Q580ylOt9mAI"
      },
      "source": [
        ""
      ],
      "execution_count": null,
      "outputs": []
    },
    {
      "cell_type": "markdown",
      "metadata": {
        "id": "SBp0Pz2iwW4A"
      },
      "source": [
        "### 3. 데이터셋 정의\n"
      ]
    },
    {
      "cell_type": "code",
      "metadata": {
        "id": "mFIRcKoaGoxt"
      },
      "source": [
        ""
      ],
      "execution_count": null,
      "outputs": []
    },
    {
      "cell_type": "markdown",
      "metadata": {
        "id": "prb3QskIL6E8"
      },
      "source": [
        "## 모델: UNet\n",
        "---"
      ]
    },
    {
      "cell_type": "markdown",
      "metadata": {
        "id": "tkytxUE_M6tp"
      },
      "source": [
        "### 1. 모델 생성"
      ]
    },
    {
      "cell_type": "code",
      "metadata": {
        "id": "0jpD19A6UCMt"
      },
      "source": [
        ""
      ],
      "execution_count": null,
      "outputs": []
    },
    {
      "cell_type": "code",
      "metadata": {
        "id": "1WIhRhyRUFq4"
      },
      "source": [
        ""
      ],
      "execution_count": null,
      "outputs": []
    },
    {
      "cell_type": "markdown",
      "metadata": {
        "id": "3D4Jhcp7M84L"
      },
      "source": [
        "### 2. 모델 컴파일"
      ]
    },
    {
      "cell_type": "code",
      "metadata": {
        "id": "CA38g-grUNf2"
      },
      "source": [
        ""
      ],
      "execution_count": null,
      "outputs": []
    },
    {
      "cell_type": "markdown",
      "metadata": {
        "id": "6x34P3CRM-cL"
      },
      "source": [
        "### 3. 모델 학습"
      ]
    },
    {
      "cell_type": "code",
      "metadata": {
        "id": "8Igi_n1JKxG3"
      },
      "source": [
        ""
      ],
      "execution_count": null,
      "outputs": []
    },
    {
      "cell_type": "markdown",
      "metadata": {
        "id": "XIgiukuJTRd0"
      },
      "source": [
        "### 4. 모델 평가"
      ]
    },
    {
      "cell_type": "code",
      "metadata": {
        "id": "N6hqYXVsiEc-"
      },
      "source": [
        ""
      ],
      "execution_count": null,
      "outputs": []
    },
    {
      "cell_type": "code",
      "metadata": {
        "id": "W7c8ki5Ih__J"
      },
      "source": [
        ""
      ],
      "execution_count": null,
      "outputs": []
    },
    {
      "cell_type": "markdown",
      "metadata": {
        "id": "Q1HL3hfQiNLL"
      },
      "source": [
        "### 5. 추론"
      ]
    },
    {
      "cell_type": "code",
      "metadata": {
        "id": "fg8yGH0EiyEB"
      },
      "source": [
        ""
      ],
      "execution_count": null,
      "outputs": []
    },
    {
      "cell_type": "code",
      "metadata": {
        "id": "mBbQ11Ga_HK3"
      },
      "source": [
        ""
      ],
      "execution_count": null,
      "outputs": []
    },
    {
      "cell_type": "markdown",
      "metadata": {
        "id": "asqEswKSfWuj"
      },
      "source": [
        "## Generator with augmentation\n",
        "---\n"
      ]
    },
    {
      "cell_type": "markdown",
      "metadata": {
        "id": "_XeLe0noK9BU"
      },
      "source": [
        "### augmentation"
      ]
    },
    {
      "cell_type": "code",
      "metadata": {
        "id": "zpZdjEoDCJXw"
      },
      "source": [
        ""
      ],
      "execution_count": null,
      "outputs": []
    },
    {
      "cell_type": "markdown",
      "metadata": {
        "id": "heAzJcW0dtKM"
      },
      "source": [
        "### 데이터셋 정의"
      ]
    },
    {
      "cell_type": "code",
      "metadata": {
        "id": "Tlq2cX6VLPYd"
      },
      "source": [
        ""
      ],
      "execution_count": null,
      "outputs": []
    },
    {
      "cell_type": "markdown",
      "metadata": {
        "id": "n5pSrbGeeQz4"
      },
      "source": [
        "## 모델: 전이학습"
      ]
    },
    {
      "cell_type": "markdown",
      "metadata": {
        "id": "91MYfh7WfWut"
      },
      "source": [
        "### 1. 모델 생성"
      ]
    },
    {
      "cell_type": "code",
      "metadata": {
        "id": "vOfJuSEXfWuu"
      },
      "source": [
        ""
      ],
      "execution_count": null,
      "outputs": []
    },
    {
      "cell_type": "code",
      "metadata": {
        "id": "n3uuv-9ifWuv"
      },
      "source": [
        ""
      ],
      "execution_count": null,
      "outputs": []
    },
    {
      "cell_type": "markdown",
      "metadata": {
        "id": "johGqj-wfWuv"
      },
      "source": [
        "### 2. 모델 컴파일"
      ]
    },
    {
      "cell_type": "code",
      "metadata": {
        "id": "_9IIX1iifWuv"
      },
      "source": [
        ""
      ],
      "execution_count": null,
      "outputs": []
    },
    {
      "cell_type": "markdown",
      "metadata": {
        "id": "N_oIXTMXfWuv"
      },
      "source": [
        "### 3. 모델 학습"
      ]
    },
    {
      "cell_type": "code",
      "metadata": {
        "id": "25_SWJn4fWuw"
      },
      "source": [
        ""
      ],
      "execution_count": null,
      "outputs": []
    },
    {
      "cell_type": "markdown",
      "metadata": {
        "id": "U3IjBIP4MVph"
      },
      "source": [
        "### 4. 모델 평가"
      ]
    },
    {
      "cell_type": "code",
      "metadata": {
        "id": "41AI_JX_MVpp"
      },
      "source": [
        ""
      ],
      "execution_count": null,
      "outputs": []
    },
    {
      "cell_type": "code",
      "metadata": {
        "id": "fQ10Ir2KMVpp"
      },
      "source": [
        ""
      ],
      "execution_count": null,
      "outputs": []
    },
    {
      "cell_type": "markdown",
      "metadata": {
        "id": "o9cJSpzeMVpq"
      },
      "source": [
        "### 5. 추론"
      ]
    },
    {
      "cell_type": "code",
      "metadata": {
        "id": "Qhb2hlygMVpq"
      },
      "source": [
        ""
      ],
      "execution_count": null,
      "outputs": []
    },
    {
      "cell_type": "code",
      "metadata": {
        "id": "8bwNmBphXmHs"
      },
      "source": [
        "3"
      ],
      "execution_count": null,
      "outputs": []
    }
  ]
}